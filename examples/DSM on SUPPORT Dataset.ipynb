{
 "cells": [
  {
   "cell_type": "markdown",
   "metadata": {},
   "source": [
    "# DSM on SUPPORT Dataset"
   ]
  },
  {
   "cell_type": "markdown",
   "metadata": {},
   "source": [
    "The SUPPORT dataset comes from the Vanderbilt University study\n",
    "to estimate survival for seriously ill hospitalized adults.\n",
    "(Refer to http://biostat.mc.vanderbilt.edu/wiki/Main/SupportDesc.\n",
    "for the original datasource.)\n",
    "\n",
    "In this notebook, we will apply Deep Survival Machines for survival prediction on the SUPPORT data."
   ]
  },
  {
   "cell_type": "markdown",
   "metadata": {},
   "source": [
    "### Load the SUPPORT Dataset\n",
    "\n",
    "The package includes helper functions to load the dataset.\n",
    "\n",
    "X represents an np.array of features (covariates),\n",
    "T is the event/censoring times and,\n",
    "E is the censoring indicator."
   ]
  },
  {
   "cell_type": "code",
   "execution_count": 1,
   "metadata": {},
   "outputs": [],
   "source": [
    "import sys\n",
    "\n",
    "sys.path.append(\"../\")\n",
    "from auton_survival import datasets\n",
    "\n",
    "outcomes, features = datasets.load_support()"
   ]
  },
  {
   "cell_type": "code",
   "execution_count": 2,
   "metadata": {},
   "outputs": [],
   "source": [
    "from auton_survival.preprocessing import Preprocessor\n",
    "\n",
    "cat_feats = [\"sex\", \"dzgroup\", \"dzclass\", \"income\", \"race\", \"ca\"]\n",
    "num_feats = [\n",
    "    \"age\",\n",
    "    \"num.co\",\n",
    "    \"meanbp\",\n",
    "    \"wblc\",\n",
    "    \"hrt\",\n",
    "    \"resp\",\n",
    "    \"temp\",\n",
    "    \"pafi\",\n",
    "    \"alb\",\n",
    "    \"bili\",\n",
    "    \"crea\",\n",
    "    \"sod\",\n",
    "    \"ph\",\n",
    "    \"glucose\",\n",
    "    \"bun\",\n",
    "    \"urine\",\n",
    "    \"adlp\",\n",
    "    \"adls\",\n",
    "]\n",
    "\n",
    "features = Preprocessor().fit_transform(\n",
    "    features, cat_feats=cat_feats, num_feats=num_feats\n",
    ")"
   ]
  },
  {
   "cell_type": "markdown",
   "metadata": {},
   "source": [
    "### Compute horizons at which we evaluate the performance of DSM\n",
    "\n",
    "Survival predictions are issued at certain time horizons. Here we will evaluate the performance\n",
    "of DSM to issue predictions at the 25th, 50th and 75th event time quantile as is standard practice in Survival Analysis."
   ]
  },
  {
   "cell_type": "code",
   "execution_count": 3,
   "metadata": {},
   "outputs": [],
   "source": [
    "import numpy as np\n",
    "\n",
    "horizons = [0.25, 0.5, 0.75]\n",
    "times = np.quantile(outcomes.time[outcomes.event == 1], horizons).tolist()"
   ]
  },
  {
   "cell_type": "markdown",
   "metadata": {},
   "source": [
    "### Splitting the data into train, test and validation sets\n",
    "\n",
    "We will train DSM on 70% of the Data, use a Validation set of 10% for Model Selection and report performance on the remaining 20% held out test set."
   ]
  },
  {
   "cell_type": "code",
   "execution_count": 4,
   "metadata": {},
   "outputs": [],
   "source": [
    "x, t, e = features.values, outcomes.time.values, outcomes.event.values\n",
    "\n",
    "n = len(x)\n",
    "\n",
    "tr_size = int(n * 0.70)\n",
    "vl_size = int(n * 0.10)\n",
    "te_size = int(n * 0.20)\n",
    "\n",
    "x_train, x_test, x_val = x[:tr_size], x[-te_size:], x[tr_size : tr_size + vl_size]\n",
    "t_train, t_test, t_val = t[:tr_size], t[-te_size:], t[tr_size : tr_size + vl_size]\n",
    "e_train, e_test, e_val = e[:tr_size], e[-te_size:], e[tr_size : tr_size + vl_size]"
   ]
  },
  {
   "cell_type": "markdown",
   "metadata": {},
   "source": [
    "### Setting the parameter grid\n",
    "\n",
    "Lets set up the parameter grid to tune hyper-parameters. We will tune the number of underlying survival distributions, \n",
    "($K$), the distribution choices (Log-Normal or Weibull), the learning rate for the Adam optimizer between $1\\times10^{-3}$ and $1\\times10^{-4}$ and the number of hidden layers between $0, 1$ and $2$."
   ]
  },
  {
   "cell_type": "code",
   "execution_count": 5,
   "metadata": {},
   "outputs": [],
   "source": [
    "from sklearn.model_selection import ParameterGrid"
   ]
  },
  {
   "cell_type": "code",
   "execution_count": 6,
   "metadata": {},
   "outputs": [],
   "source": [
    "param_grid = {\n",
    "    \"k\": [3, 4, 6],\n",
    "    \"distribution\": [\"LogNormal\", \"Weibull\"],\n",
    "    \"learning_rate\": [1e-4, 1e-3],\n",
    "    \"layers\": [[], [100], [100, 100]],\n",
    "}\n",
    "params = ParameterGrid(param_grid)"
   ]
  },
  {
   "cell_type": "markdown",
   "metadata": {},
   "source": [
    "### Model Training and Selection"
   ]
  },
  {
   "cell_type": "code",
   "execution_count": 7,
   "metadata": {},
   "outputs": [],
   "source": [
    "from auton_survival.models.dsm import DeepSurvivalMachines"
   ]
  },
  {
   "cell_type": "code",
   "execution_count": 11,
   "metadata": {
    "scrolled": true
   },
   "outputs": [
    {
     "name": "stderr",
     "output_type": "stream",
     "text": [
      "  0%|          | 0/10000 [00:00<?, ?it/s]"
     ]
    },
    {
     "name": "stderr",
     "output_type": "stream",
     "text": [
      " 12%|█▏        | 1212/10000 [00:01<00:13, 628.54it/s]\n",
      "100%|██████████| 100/100 [00:22<00:00,  4.46it/s]\n",
      " 12%|█▏        | 1212/10000 [00:01<00:12, 702.56it/s]\n",
      "100%|██████████| 100/100 [00:24<00:00,  4.14it/s]\n",
      " 12%|█▏        | 1212/10000 [00:01<00:14, 624.06it/s]\n",
      "100%|██████████| 100/100 [00:31<00:00,  3.15it/s]\n",
      " 12%|█▏        | 1212/10000 [00:02<00:14, 600.86it/s]\n",
      "100%|██████████| 100/100 [00:31<00:00,  3.21it/s]\n",
      " 12%|█▏        | 1212/10000 [00:02<00:14, 596.05it/s]\n",
      "100%|██████████| 100/100 [00:34<00:00,  2.88it/s]\n",
      " 12%|█▏        | 1212/10000 [00:02<00:15, 572.04it/s]\n",
      "100%|██████████| 100/100 [00:33<00:00,  2.99it/s]\n",
      " 12%|█▏        | 1212/10000 [00:01<00:13, 637.96it/s]\n",
      "100%|██████████| 100/100 [00:29<00:00,  3.42it/s]\n",
      " 12%|█▏        | 1212/10000 [00:01<00:13, 651.88it/s]\n",
      "100%|██████████| 100/100 [00:28<00:00,  3.48it/s]\n",
      " 12%|█▏        | 1212/10000 [00:02<00:14, 602.31it/s]\n",
      "100%|██████████| 100/100 [00:32<00:00,  3.07it/s]\n",
      " 12%|█▏        | 1212/10000 [00:01<00:14, 617.69it/s]\n",
      "100%|██████████| 100/100 [00:33<00:00,  2.98it/s]\n",
      " 12%|█▏        | 1212/10000 [00:02<00:16, 517.16it/s]\n",
      "100%|██████████| 100/100 [00:34<00:00,  2.91it/s]\n",
      " 12%|█▏        | 1212/10000 [00:02<00:15, 571.00it/s]\n",
      "100%|██████████| 100/100 [00:34<00:00,  2.90it/s]\n",
      " 12%|█▏        | 1212/10000 [00:01<00:14, 618.22it/s]\n",
      "100%|██████████| 100/100 [00:32<00:00,  3.05it/s]\n",
      " 12%|█▏        | 1212/10000 [00:01<00:13, 642.92it/s]\n",
      "100%|██████████| 100/100 [00:33<00:00,  2.97it/s]\n",
      " 12%|█▏        | 1212/10000 [00:02<00:14, 592.13it/s]\n",
      "100%|██████████| 100/100 [00:38<00:00,  2.63it/s]\n",
      " 12%|█▏        | 1212/10000 [00:02<00:14, 603.77it/s]\n",
      "100%|██████████| 100/100 [00:38<00:00,  2.58it/s]\n",
      " 12%|█▏        | 1212/10000 [00:02<00:15, 551.35it/s]\n",
      "100%|██████████| 100/100 [00:37<00:00,  2.67it/s]\n",
      " 12%|█▏        | 1212/10000 [00:01<00:13, 655.96it/s]\n",
      "100%|██████████| 100/100 [00:36<00:00,  2.77it/s]\n",
      " 18%|█▊        | 1787/10000 [00:02<00:11, 733.21it/s]\n",
      "100%|██████████| 100/100 [00:21<00:00,  4.61it/s]\n",
      " 18%|█▊        | 1787/10000 [00:02<00:10, 779.03it/s]\n",
      "100%|██████████| 100/100 [00:21<00:00,  4.71it/s]\n",
      " 18%|█▊        | 1787/10000 [00:02<00:10, 779.68it/s]\n",
      "100%|██████████| 100/100 [00:27<00:00,  3.66it/s]\n",
      " 18%|█▊        | 1787/10000 [00:02<00:10, 784.04it/s]\n",
      "100%|██████████| 100/100 [00:27<00:00,  3.64it/s]\n",
      " 18%|█▊        | 1787/10000 [00:02<00:10, 796.09it/s]\n",
      "100%|██████████| 100/100 [00:28<00:00,  3.56it/s]\n",
      " 18%|█▊        | 1787/10000 [00:02<00:10, 777.35it/s]\n",
      "100%|██████████| 100/100 [00:28<00:00,  3.57it/s]\n",
      " 18%|█▊        | 1787/10000 [00:02<00:10, 804.85it/s]\n",
      "100%|██████████| 100/100 [00:26<00:00,  3.73it/s]\n",
      " 18%|█▊        | 1787/10000 [00:02<00:10, 794.80it/s]\n",
      "100%|██████████| 100/100 [00:26<00:00,  3.80it/s]\n",
      " 18%|█▊        | 1787/10000 [00:02<00:10, 799.77it/s]\n",
      "100%|██████████| 100/100 [00:28<00:00,  3.50it/s]\n",
      " 18%|█▊        | 1787/10000 [00:02<00:10, 811.25it/s]\n",
      "100%|██████████| 100/100 [00:28<00:00,  3.45it/s]\n",
      " 18%|█▊        | 1787/10000 [00:02<00:10, 798.61it/s]\n",
      "100%|██████████| 100/100 [00:29<00:00,  3.41it/s]\n",
      " 18%|█▊        | 1787/10000 [00:02<00:10, 752.15it/s]\n",
      "100%|██████████| 100/100 [00:29<00:00,  3.42it/s]\n",
      " 18%|█▊        | 1787/10000 [00:02<00:10, 806.00it/s]\n",
      "100%|██████████| 100/100 [00:29<00:00,  3.44it/s]\n",
      " 18%|█▊        | 1787/10000 [00:02<00:10, 799.90it/s]\n",
      "100%|██████████| 100/100 [00:29<00:00,  3.44it/s]\n",
      " 18%|█▊        | 1787/10000 [00:02<00:10, 782.94it/s]\n",
      "100%|██████████| 100/100 [00:31<00:00,  3.17it/s]\n",
      " 18%|█▊        | 1787/10000 [00:02<00:09, 828.42it/s]\n",
      "100%|██████████| 100/100 [00:32<00:00,  3.09it/s]\n",
      " 18%|█▊        | 1787/10000 [00:02<00:10, 789.90it/s]\n",
      "100%|██████████| 100/100 [00:31<00:00,  3.14it/s]\n",
      " 18%|█▊        | 1787/10000 [00:02<00:10, 795.43it/s]\n",
      "100%|██████████| 100/100 [00:31<00:00,  3.15it/s]\n"
     ]
    }
   ],
   "source": [
    "models = []\n",
    "for param in params:\n",
    "    model = DeepSurvivalMachines(\n",
    "        k=param[\"k\"], distribution=param[\"distribution\"], layers=param[\"layers\"]\n",
    "    )\n",
    "    # The fit method is called to train the model\n",
    "    model.fit(\n",
    "        x_train,\n",
    "        t_train,\n",
    "        e_train,\n",
    "        val_data=(x_val, t_val, e_val),\n",
    "        pat_thresh=10,\n",
    "        metric_name=\"ctd\",\n",
    "        iters=100,\n",
    "        learning_rate=param[\"learning_rate\"],\n",
    "    )\n",
    "    models.append([[model.compute_nll(x_val, t_val, e_val), model]])\n",
    "best_model = min(models)\n",
    "model = best_model[0][1]"
   ]
  },
  {
   "cell_type": "markdown",
   "metadata": {},
   "source": [
    "### Inference"
   ]
  },
  {
   "cell_type": "code",
   "execution_count": null,
   "metadata": {},
   "outputs": [],
   "source": [
    "out_risk = model.predict_risk(x_test, times)\n",
    "out_survival = model.predict_survival(x_test, times)"
   ]
  },
  {
   "cell_type": "markdown",
   "metadata": {},
   "source": [
    "### Evaluation\n",
    "\n",
    "We evaluate the performance of DSM in its discriminative ability (Time Dependent Concordance Index and Cumulative Dynamic AUC) as well as Brier Score."
   ]
  },
  {
   "cell_type": "code",
   "execution_count": null,
   "metadata": {},
   "outputs": [],
   "source": [
    "from sksurv.metrics import concordance_index_ipcw, brier_score, cumulative_dynamic_auc"
   ]
  },
  {
   "cell_type": "code",
   "execution_count": null,
   "metadata": {},
   "outputs": [
    {
     "name": "stdout",
     "output_type": "stream",
     "text": [
      "For 0.25 quantile,\n",
      "TD Concordance Index: 0.7654623977507524\n",
      "Brier Score: 0.1113718434577653\n",
      "ROC AUC  0.7726559401456209 \n",
      "\n",
      "For 0.5 quantile,\n",
      "TD Concordance Index: 0.7028023744256217\n",
      "Brier Score: 0.18272349023400458\n",
      "ROC AUC  0.7233090768473599 \n",
      "\n",
      "For 0.75 quantile,\n",
      "TD Concordance Index: 0.6598366764167385\n",
      "Brier Score: 0.22132781490822118\n",
      "ROC AUC  0.7150311988853214 \n",
      "\n"
     ]
    }
   ],
   "source": [
    "cis = []\n",
    "brs = []\n",
    "\n",
    "et_train = np.array(\n",
    "    [(e_train[i], t_train[i]) for i in range(len(e_train))],\n",
    "    dtype=[(\"e\", bool), (\"t\", float)],\n",
    ")\n",
    "et_test = np.array(\n",
    "    [(e_test[i], t_test[i]) for i in range(len(e_test))],\n",
    "    dtype=[(\"e\", bool), (\"t\", float)],\n",
    ")\n",
    "et_val = np.array(\n",
    "    [(e_val[i], t_val[i]) for i in range(len(e_val))], dtype=[(\"e\", bool), (\"t\", float)]\n",
    ")\n",
    "\n",
    "for i, _ in enumerate(times):\n",
    "    cis.append(concordance_index_ipcw(et_train, et_test, out_risk[:, i], times[i])[0])\n",
    "brs.append(brier_score(et_train, et_test, out_survival, times)[1])\n",
    "roc_auc = []\n",
    "for i, _ in enumerate(times):\n",
    "    roc_auc.append(\n",
    "        cumulative_dynamic_auc(et_train, et_test, out_risk[:, i], times[i])[0]\n",
    "    )\n",
    "for horizon in enumerate(horizons):\n",
    "    print(f\"For {horizon[1]} quantile,\")\n",
    "    print(\"TD Concordance Index:\", cis[horizon[0]])\n",
    "    print(\"Brier Score:\", brs[0][horizon[0]])\n",
    "    print(\"ROC AUC \", roc_auc[horizon[0]][0], \"\\n\")"
   ]
  },
  {
   "cell_type": "code",
   "execution_count": null,
   "metadata": {},
   "outputs": [],
   "source": []
  }
 ],
 "metadata": {
  "kernelspec": {
   "display_name": "Python 3",
   "language": "python",
   "name": "python3"
  },
  "language_info": {
   "codemirror_mode": {
    "name": "ipython",
    "version": 3
   },
   "file_extension": ".py",
   "mimetype": "text/x-python",
   "name": "python",
   "nbconvert_exporter": "python",
   "pygments_lexer": "ipython3",
   "version": "3.8.10"
  }
 },
 "nbformat": 4,
 "nbformat_minor": 4
}
